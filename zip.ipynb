{
 "cells": [
  {
   "cell_type": "code",
   "execution_count": null,
   "metadata": {},
   "outputs": [],
   "source": [
    "import zipfile\n",
    "import os"
   ]
  },
  {
   "cell_type": "code",
   "execution_count": null,
   "metadata": {},
   "outputs": [],
   "source": [
    "# List of ZIP files and their respective extraction paths\n",
    "zip_files = [\n",
    "    {\n",
    "        \"zip_path\": '/workspaces/AI-Invoice/Test_Data-Zolvit/test data/PDF AUTOMATION/JARVICONS PRIVATE LIMITED/ticket_message_71757932.zip',\n",
    "        \"extract_to\": '/workspaces/AI-Invoice/Test_Data-Zolvit/test data/PDF AUTOMATION/JARVICONS PRIVATE LIMITED/extracted/'\n",
    "    },\n",
    "    {\n",
    "        \"zip_path\": '/workspaces/AI-Invoice/Test_Data-Zolvit/test data/PDF AUTOMATION/KPP/aug24invoice_kpphometownorganics.zip',\n",
    "        \"extract_to\": '/workspaces/AI-Invoice/Test_Data-Zolvit/test data/PDF AUTOMATION/KPP/extracted/'\n",
    "    },\n",
    "    {\n",
    "        \"zip_path\": '/workspaces/AI-Invoice/Test_Data-Zolvit/test data/PDF AUTOMATION/Venture commerce/drive-download-20240902T111740Z-001.zip',\n",
    "        \"extract_to\": '/workspaces/AI-Invoice/Test_Data-Zolvit/test data/PDF AUTOMATION/Venture commerce/extracted/'\n",
    "    }\n",
    "]"
   ]
  },
  {
   "cell_type": "code",
   "execution_count": null,
   "metadata": {},
   "outputs": [],
   "source": [
    "# Function to extract ZIP files\n",
    "def extract_zip_files(zip_files):\n",
    "    for file_info in zip_files:\n",
    "        zip_file_path = file_info[\"zip_path\"]\n",
    "        extract_to = file_info[\"extract_to\"]\n",
    "\n",
    "        # Check if the extraction directory already exists\n",
    "        if os.path.exists(extract_to):\n",
    "            print(f'Skipped extraction: {extract_to} already exists.')\n",
    "            continue  # Skip to the next file if already extracted\n",
    "\n",
    "        # Create the destination directory\n",
    "        os.makedirs(extract_to, exist_ok=True)\n",
    "\n",
    "        try:\n",
    "            # Extract the ZIP file\n",
    "            with zipfile.ZipFile(zip_file_path, 'r') as zip_ref:\n",
    "                zip_ref.extractall(extract_to)\n",
    "            print(f'Extracted all files from {zip_file_path} to {extract_to}')\n",
    "        except Exception as e:\n",
    "            print(f'Failed to extract {zip_file_path}: {e}')\n",
    "\n",
    "# Execute the extraction\n",
    "extract_zip_files(zip_files)"
   ]
  }
 ],
 "metadata": {
  "kernelspec": {
   "display_name": "Python 3",
   "language": "python",
   "name": "python3"
  },
  "language_info": {
   "name": "python",
   "version": "3.12.1"
  }
 },
 "nbformat": 4,
 "nbformat_minor": 2
}
